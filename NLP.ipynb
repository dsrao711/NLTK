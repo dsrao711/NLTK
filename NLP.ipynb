{
 "cells": [
  {
   "cell_type": "code",
   "execution_count": 4,
   "id": "selective-recognition",
   "metadata": {},
   "outputs": [
    {
     "name": "stdout",
     "output_type": "stream",
     "text": [
      "showing info https://raw.githubusercontent.com/nltk/nltk_data/gh-pages/index.xml\n"
     ]
    },
    {
     "data": {
      "text/plain": [
       "True"
      ]
     },
     "execution_count": 4,
     "metadata": {},
     "output_type": "execute_result"
    }
   ],
   "source": [
    "import nltk\n",
    "nltk.download()\n"
   ]
  },
  {
   "cell_type": "code",
   "execution_count": 6,
   "id": "ordinary-argentina",
   "metadata": {},
   "outputs": [],
   "source": [
    "paragraph = \"A paragraph is a series of related sentences developing a central idea, called the topic. Try to think about paragraphs in terms of thematic unity: a paragraph is a sentence or a group of sentences that supports one central, unified idea. Paragraphs add one idea at a time to your broader argument.\""
   ]
  },
  {
   "cell_type": "markdown",
   "id": "checked-springfield",
   "metadata": {},
   "source": [
    "Tokenization\n"
   ]
  },
  {
   "cell_type": "code",
   "execution_count": 7,
   "id": "charming-membership",
   "metadata": {},
   "outputs": [
    {
     "data": {
      "text/plain": [
       "['A paragraph is a series of related sentences developing a central idea, called the topic.',\n",
       " 'Try to think about paragraphs in terms of thematic unity: a paragraph is a sentence or a group of sentences that supports one central, unified idea.',\n",
       " 'Paragraphs add one idea at a time to your broader argument.']"
      ]
     },
     "execution_count": 7,
     "metadata": {},
     "output_type": "execute_result"
    }
   ],
   "source": [
    "sentences = nltk.sent_tokenize(paragraph)\n",
    "sentences\n"
   ]
  },
  {
   "cell_type": "code",
   "execution_count": 8,
   "id": "editorial-costs",
   "metadata": {},
   "outputs": [
    {
     "data": {
      "text/plain": [
       "['A',\n",
       " 'paragraph',\n",
       " 'is',\n",
       " 'a',\n",
       " 'series',\n",
       " 'of',\n",
       " 'related',\n",
       " 'sentences',\n",
       " 'developing',\n",
       " 'a',\n",
       " 'central',\n",
       " 'idea',\n",
       " ',',\n",
       " 'called',\n",
       " 'the',\n",
       " 'topic',\n",
       " '.',\n",
       " 'Try',\n",
       " 'to',\n",
       " 'think',\n",
       " 'about',\n",
       " 'paragraphs',\n",
       " 'in',\n",
       " 'terms',\n",
       " 'of',\n",
       " 'thematic',\n",
       " 'unity',\n",
       " ':',\n",
       " 'a',\n",
       " 'paragraph',\n",
       " 'is',\n",
       " 'a',\n",
       " 'sentence',\n",
       " 'or',\n",
       " 'a',\n",
       " 'group',\n",
       " 'of',\n",
       " 'sentences',\n",
       " 'that',\n",
       " 'supports',\n",
       " 'one',\n",
       " 'central',\n",
       " ',',\n",
       " 'unified',\n",
       " 'idea',\n",
       " '.',\n",
       " 'Paragraphs',\n",
       " 'add',\n",
       " 'one',\n",
       " 'idea',\n",
       " 'at',\n",
       " 'a',\n",
       " 'time',\n",
       " 'to',\n",
       " 'your',\n",
       " 'broader',\n",
       " 'argument',\n",
       " '.']"
      ]
     },
     "execution_count": 8,
     "metadata": {},
     "output_type": "execute_result"
    }
   ],
   "source": [
    "words = nltk.word_tokenize(paragraph)\n",
    "words\n"
   ]
  },
  {
   "cell_type": "code",
   "execution_count": null,
   "id": "cleared-shower",
   "metadata": {},
   "outputs": [],
   "source": []
  }
 ],
 "metadata": {
  "kernelspec": {
   "display_name": "Python 3",
   "language": "python",
   "name": "python3"
  },
  "language_info": {
   "codemirror_mode": {
    "name": "ipython",
    "version": 3
   },
   "file_extension": ".py",
   "mimetype": "text/x-python",
   "name": "python",
   "nbconvert_exporter": "python",
   "pygments_lexer": "ipython3",
   "version": "3.8.0"
  }
 },
 "nbformat": 4,
 "nbformat_minor": 5
}
